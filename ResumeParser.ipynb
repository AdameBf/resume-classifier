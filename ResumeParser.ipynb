{
 "cells": [
  {
   "cell_type": "markdown",
   "id": "c8ce0847",
   "metadata": {},
   "source": [
    "# Resume Parser"
   ]
  },
  {
   "cell_type": "markdown",
   "id": "44856812",
   "metadata": {},
   "source": [
    "_Author:_ @AdameBf \\\\\\\n",
    "_Last edited:_ 2023-01-30"
   ]
  },
  {
   "cell_type": "markdown",
   "id": "9d1b30b9",
   "metadata": {},
   "source": [
    "Inspired by [this article on projectpro.io](https://www.projectpro.io/article/artificial-intelligence-project-ideas/461#mcetoc_1fcb5nj0np), the aim is to classify resumes depending on the keywords they feature.\n",
    "\n",
    "As suggesed in the article, the dataset used is [that of Kaggle](https://www.kaggle.com/gauravduttakiit/resume-dataset)."
   ]
  },
  {
   "cell_type": "markdown",
   "id": "d25449e0",
   "metadata": {},
   "source": [
    "## 0. Loading steps"
   ]
  },
  {
   "cell_type": "markdown",
   "id": "61765f11",
   "metadata": {},
   "source": [
    "### 0.1. Library imports"
   ]
  },
  {
   "cell_type": "code",
   "execution_count": 2,
   "id": "50129025",
   "metadata": {},
   "outputs": [],
   "source": [
    "import nltk\n",
    "import pandas as pd"
   ]
  },
  {
   "cell_type": "markdown",
   "id": "79652541",
   "metadata": {},
   "source": [
    "### 0.2. Loading of the dataset"
   ]
  },
  {
   "cell_type": "code",
   "execution_count": 4,
   "id": "19bf546a",
   "metadata": {},
   "outputs": [],
   "source": [
    "resume_data = pd.read_csv(r'data/UpdatedResumeDataSet.csv')"
   ]
  },
  {
   "cell_type": "code",
   "execution_count": 5,
   "id": "dae10909",
   "metadata": {},
   "outputs": [
    {
     "data": {
      "text/html": [
       "<div>\n",
       "<style scoped>\n",
       "    .dataframe tbody tr th:only-of-type {\n",
       "        vertical-align: middle;\n",
       "    }\n",
       "\n",
       "    .dataframe tbody tr th {\n",
       "        vertical-align: top;\n",
       "    }\n",
       "\n",
       "    .dataframe thead th {\n",
       "        text-align: right;\n",
       "    }\n",
       "</style>\n",
       "<table border=\"1\" class=\"dataframe\">\n",
       "  <thead>\n",
       "    <tr style=\"text-align: right;\">\n",
       "      <th></th>\n",
       "      <th>Category</th>\n",
       "      <th>Resume</th>\n",
       "    </tr>\n",
       "  </thead>\n",
       "  <tbody>\n",
       "    <tr>\n",
       "      <th>0</th>\n",
       "      <td>Data Science</td>\n",
       "      <td>Skills * Programming Languages: Python (pandas...</td>\n",
       "    </tr>\n",
       "    <tr>\n",
       "      <th>1</th>\n",
       "      <td>Data Science</td>\n",
       "      <td>Education Details \\r\\nMay 2013 to May 2017 B.E...</td>\n",
       "    </tr>\n",
       "    <tr>\n",
       "      <th>2</th>\n",
       "      <td>Data Science</td>\n",
       "      <td>Areas of Interest Deep Learning, Control Syste...</td>\n",
       "    </tr>\n",
       "    <tr>\n",
       "      <th>3</th>\n",
       "      <td>Data Science</td>\n",
       "      <td>Skills â¢ R â¢ Python â¢ SAP HANA â¢ Table...</td>\n",
       "    </tr>\n",
       "    <tr>\n",
       "      <th>4</th>\n",
       "      <td>Data Science</td>\n",
       "      <td>Education Details \\r\\n MCA   YMCAUST,  Faridab...</td>\n",
       "    </tr>\n",
       "  </tbody>\n",
       "</table>\n",
       "</div>"
      ],
      "text/plain": [
       "       Category                                             Resume\n",
       "0  Data Science  Skills * Programming Languages: Python (pandas...\n",
       "1  Data Science  Education Details \\r\\nMay 2013 to May 2017 B.E...\n",
       "2  Data Science  Areas of Interest Deep Learning, Control Syste...\n",
       "3  Data Science  Skills â¢ R â¢ Python â¢ SAP HANA â¢ Table...\n",
       "4  Data Science  Education Details \\r\\n MCA   YMCAUST,  Faridab..."
      ]
     },
     "execution_count": 5,
     "metadata": {},
     "output_type": "execute_result"
    }
   ],
   "source": [
    "resume_data.head()"
   ]
  },
  {
   "cell_type": "markdown",
   "id": "a4d875b3",
   "metadata": {},
   "source": [
    "## 1. Pre-processing using NLTK"
   ]
  },
  {
   "cell_type": "code",
   "execution_count": null,
   "id": "129db77f",
   "metadata": {},
   "outputs": [],
   "source": []
  }
 ],
 "metadata": {
  "kernelspec": {
   "display_name": "Python 3 (ipykernel)",
   "language": "python",
   "name": "python3"
  },
  "language_info": {
   "codemirror_mode": {
    "name": "ipython",
    "version": 3
   },
   "file_extension": ".py",
   "mimetype": "text/x-python",
   "name": "python",
   "nbconvert_exporter": "python",
   "pygments_lexer": "ipython3",
   "version": "3.10.9"
  }
 },
 "nbformat": 4,
 "nbformat_minor": 5
}
